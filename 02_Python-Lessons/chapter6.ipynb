{
 "cells": [
  {
   "cell_type": "markdown",
   "metadata": {},
   "source": [
    "## Chapter 6 Dictionaries"
   ]
  },
  {
   "cell_type": "markdown",
   "metadata": {},
   "source": [
    "### Learning Objectives for This Lecture  \n",
    "\n",
    "By the end of this lecture, you will:  \n",
    "\n",
    "- **Understand** how to use **Python dictionaries** to connect related pieces of information.  \n",
    "- **Learn** how to:\n",
    "  - **Access** and **modify** data stored in a dictionary.  \n",
    "  - **Loop through data** in a dictionary.  \n",
    "- **Explore** how to nest data structures, such as:  \n",
    "  - Dictionaries inside lists  \n",
    "  - Lists inside dictionaries  \n",
    "  - Dictionaries inside other dictionaries  \n",
    "- **Learn** how to model real-world objects using dictionaries to represent complex data.  \n",
    "- **Gain the ability** to create dictionaries for scenarios such as:  \n",
    "  - Representing a person and storing attributes like name, age, location, and profession.  \n",
    "  - Matching related pairs of information (e.g., words and meanings, names and favorite numbers, mountains and elevations).  \n",
    "- **Develop skills** to manage and organize **large amounts of related information** using dictionaries effectively."
   ]
  },
  {
   "cell_type": "markdown",
   "metadata": {},
   "source": [
    "### A Simple Dictionary\n",
    "\n",
    "<img src=\"../assets/chapter6-dictionary.PNG\" width=\"70%\">"
   ]
  },
  {
   "cell_type": "markdown",
   "metadata": {},
   "source": [
    "- Can you identify the words looked up for definition from the dictionary?\n",
    "  - They are:\n",
    "    - \"x\"\n",
    "    - \"beginner\"\n",
    "  - What is the definition of \"x\"?\n",
    "  - What is the definition of \"beginner\"?\n",
    "  \n",
    "--------------------------------\n",
    "  \n",
    "\"x\": \"The 24th letter of the Roman alphabet\"\n",
    "\n",
    "\"beginner\": [\"Someone new to a field or activity\",\"A person who founds or establishes some institution\"]\n",
    "\n",
    "--------------------------------"
   ]
  },
  {
   "cell_type": "markdown",
   "metadata": {},
   "source": [
    "- A dictionary in Python is a collection of `key-value` pairs. \n",
    "- Each key is connected to a value, and you can use a key to access the value associated with that key. \n",
    "- A key’s value can be\n",
    "  - a `number`, \n",
    "  - a `string`, \n",
    "  - a `list`, or \n",
    "  - even another `dictionary`. \n",
    "- In fact, you can use any object that you can create in Python as a value in a dictionary.\n",
    "- In Python, a dictionary is wrapped in braces `({})` with a series of key-value pairs inside the braces, as shown below:"
   ]
  },
  {
   "cell_type": "code",
   "execution_count": 1,
   "metadata": {},
   "outputs": [
    {
     "data": {
      "text/plain": [
       "{'color': 'green', 'points': 5}"
      ]
     },
     "execution_count": 1,
     "metadata": {},
     "output_type": "execute_result"
    }
   ],
   "source": [
    "alien_0 = {'color': 'green', 'points': 5}\n",
    "alien_0"
   ]
  },
  {
   "cell_type": "code",
   "execution_count": 3,
   "metadata": {},
   "outputs": [
    {
     "name": "stdout",
     "output_type": "stream",
     "text": [
      "{'x': 'The 24th letter of the Roman alphabet'}\n",
      "{'beginner': ['Someone new to a field or activity', 'A person who founds or establishes some institution']}\n"
     ]
    }
   ],
   "source": [
    "defintion1 = {\"x\": \"The 24th letter of the Roman alphabet\"}\n",
    "print(defintion1)\n",
    "\n",
    "defintion2= {\"beginner\": [\"Someone new to a field or activity\",\"A person who founds or establishes some institution\"]}\n",
    "print(defintion2)"
   ]
  },
  {
   "cell_type": "markdown",
   "metadata": {},
   "source": [
    "## Accessing Values in a Dictionary"
   ]
  },
  {
   "cell_type": "code",
   "execution_count": 4,
   "metadata": {},
   "outputs": [
    {
     "name": "stdout",
     "output_type": "stream",
     "text": [
      "green\n"
     ]
    }
   ],
   "source": [
    "alien_0 = {'color': 'green'}\n",
    "print(alien_0['color'])"
   ]
  },
  {
   "cell_type": "code",
   "execution_count": 5,
   "metadata": {},
   "outputs": [
    {
     "name": "stdout",
     "output_type": "stream",
     "text": [
      "You just earned 5 points!\n"
     ]
    }
   ],
   "source": [
    "alien_0 = {'color': 'green', 'points': 5}\n",
    "new_points = alien_0['points']\n",
    "print(f\"You just earned {new_points} points!\")"
   ]
  },
  {
   "cell_type": "code",
   "execution_count": 7,
   "metadata": {},
   "outputs": [
    {
     "name": "stdout",
     "output_type": "stream",
     "text": [
      "'x' is The 24th letter of the Roman alphabet\n"
     ]
    }
   ],
   "source": [
    "defintion1 = {\"x\": \"The 24th letter of the Roman alphabet\"}\n",
    "print(f\"'x' is {defintion1['x']}\")"
   ]
  },
  {
   "cell_type": "code",
   "execution_count": 8,
   "metadata": {},
   "outputs": [
    {
     "name": "stdout",
     "output_type": "stream",
     "text": [
      "'beginner' is Someone new to a field or activity\n",
      "'beginner' is A person who founds or establishes some institution\n"
     ]
    }
   ],
   "source": [
    "defintion2= {\"beginner\": [\"Someone new to a field or activity\",\"A person who founds or establishes some institution\"]}\n",
    "print(f\"'beginner' is {defintion2['beginner'][0]}\")\n",
    "print(f\"'beginner' is {defintion2['beginner'][1]}\")"
   ]
  },
  {
   "cell_type": "markdown",
   "metadata": {},
   "source": [
    "## Adding New Key-Value Pairs"
   ]
  },
  {
   "cell_type": "code",
   "execution_count": 9,
   "metadata": {},
   "outputs": [
    {
     "name": "stdout",
     "output_type": "stream",
     "text": [
      "{'color': 'green', 'points': 5}\n",
      "{'color': 'green', 'points': 5, 'x_position': 0, 'y_position': 25}\n"
     ]
    }
   ],
   "source": [
    "alien_0 = {'color': 'green', 'points': 5}\n",
    "print(alien_0)\n",
    "alien_0['x_position'] = 0\n",
    "alien_0['y_position'] = 25\n",
    "print(alien_0)"
   ]
  },
  {
   "cell_type": "markdown",
   "metadata": {},
   "source": [
    "## Starting with an Empty Dictionary"
   ]
  },
  {
   "cell_type": "code",
   "execution_count": 10,
   "metadata": {},
   "outputs": [
    {
     "name": "stdout",
     "output_type": "stream",
     "text": [
      "{'color': 'green', 'points': 5}\n"
     ]
    }
   ],
   "source": [
    "alien_0 = {}\n",
    "\n",
    "alien_0['color'] = 'green'\n",
    "alien_0['points'] = 5\n",
    "\n",
    "print(alien_0)"
   ]
  },
  {
   "cell_type": "markdown",
   "metadata": {},
   "source": [
    "## Modifying Values in a Dictionary"
   ]
  },
  {
   "cell_type": "code",
   "execution_count": 12,
   "metadata": {},
   "outputs": [
    {
     "name": "stdout",
     "output_type": "stream",
     "text": [
      "The alien is green.\n",
      "\n",
      "The alien is now yellow.\n"
     ]
    }
   ],
   "source": [
    "alien_0 = {'color': 'green'}\n",
    "print(f\"The alien is {alien_0['color']}.\")\n",
    "\n",
    "alien_0['color'] = 'yellow'\n",
    "print(f\"\\nThe alien is now {alien_0['color']}.\")"
   ]
  },
  {
   "cell_type": "markdown",
   "metadata": {},
   "source": [
    " - For a more interesting example, let’s track the position of an alien that can move at different speeds.\n",
    "  - We’ll store a value representing the alien’s current speed and then use it to determine how far to the right the alien should move:"
   ]
  },
  {
   "cell_type": "code",
   "execution_count": 13,
   "metadata": {},
   "outputs": [
    {
     "name": "stdout",
     "output_type": "stream",
     "text": [
      "Original position: 0\n",
      "New position: 2\n"
     ]
    }
   ],
   "source": [
    "alien_0 = {'x_position': 0, 'y_position': 25, 'speed': 'medium'}\n",
    "print(f\"Original position: {alien_0['x_position']}\")\n",
    "# Move the alien to the right.\n",
    "# Determine how far to move the alien based on its current speed.\n",
    "if alien_0['speed'] == 'slow':\n",
    "    x_increment = 1\n",
    "elif alien_0['speed'] == 'medium':\n",
    "    x_increment = 2\n",
    "else:\n",
    "    # This must be a fast alien.\n",
    "    x_increment = 3\n",
    "# The new position is the old position plus the increment.\n",
    "alien_0['x_position'] = alien_0['x_position'] + x_increment\n",
    "print(f\"New position: {alien_0['x_position']}\")"
   ]
  },
  {
   "cell_type": "markdown",
   "metadata": {},
   "source": [
    "## Removing Key-Value Pairs\n",
    "\n",
    "- When you no longer need a piece of information that’s stored in a dictionary, you can use the del statement to completely remove a key-value pair.\n",
    "- All del needs is the name of the dictionary and the key that you want to remove.\n",
    "- For example, let’s remove the key 'points' from the alien_0 dictionary, along with its value:"
   ]
  },
  {
   "cell_type": "markdown",
   "metadata": {},
   "source": [
    "### Remember `del` we used to remove item from a list?"
   ]
  },
  {
   "cell_type": "code",
   "execution_count": 15,
   "metadata": {},
   "outputs": [
    {
     "name": "stdout",
     "output_type": "stream",
     "text": [
      "{'color': 'green', 'points': 5}\n",
      "{'color': 'green'}\n"
     ]
    }
   ],
   "source": [
    "alien_0 = {'color': 'green', 'points': 5}\n",
    "print(alien_0)\n",
    "\n",
    "del alien_0['points']\n",
    "# Let's reprint the alien_0 list\n",
    "print(alien_0)"
   ]
  },
  {
   "cell_type": "markdown",
   "metadata": {},
   "source": [
    "**Be aware that the deleted key-value pair is removed permanently**"
   ]
  },
  {
   "cell_type": "markdown",
   "metadata": {},
   "source": [
    "## A Dictionary of Similar Objects"
   ]
  },
  {
   "cell_type": "code",
   "execution_count": null,
   "metadata": {},
   "outputs": [],
   "source": [
    "favorite_languages = {\n",
    "'jen': 'python',\n",
    "'sarah': 'c',\n",
    "'edward': 'rust',\n",
    "'phil': 'python',\n",
    "}"
   ]
  },
  {
   "cell_type": "markdown",
   "metadata": {},
   "source": [
    "- To use this dictionary, given the name of a person who took the poll, you can easily look up their favorite language:\n",
    "- To see which language Sarah chose, we ask for the value at:\n",
    "  - `favorite_languages['sarah']`\n"
   ]
  },
  {
   "cell_type": "code",
   "execution_count": 19,
   "metadata": {},
   "outputs": [
    {
     "name": "stdout",
     "output_type": "stream",
     "text": [
      "Sarah's favorite language is C.\n"
     ]
    }
   ],
   "source": [
    "language = favorite_languages['sarah'].title()\n",
    "print(f\"Sarah's favorite language is {language}.\")"
   ]
  },
  {
   "cell_type": "markdown",
   "metadata": {},
   "source": [
    "## Using `get()` to Access Values"
   ]
  },
  {
   "cell_type": "markdown",
   "metadata": {},
   "source": [
    "Let’s see what happens when you ask for the point value of an alien that\n",
    "doesn’t have a point value set:"
   ]
  },
  {
   "cell_type": "code",
   "execution_count": 20,
   "metadata": {},
   "outputs": [
    {
     "ename": "KeyError",
     "evalue": "'points'",
     "output_type": "error",
     "traceback": [
      "\u001b[1;31m---------------------------------------------------------------------------\u001b[0m",
      "\u001b[1;31mKeyError\u001b[0m                                  Traceback (most recent call last)",
      "\u001b[1;32m~\\AppData\\Local\\Temp\\ipykernel_26652\\2041057487.py\u001b[0m in \u001b[0;36m<module>\u001b[1;34m\u001b[0m\n\u001b[0;32m      1\u001b[0m \u001b[0malien_0\u001b[0m \u001b[1;33m=\u001b[0m \u001b[1;33m{\u001b[0m\u001b[1;34m'color'\u001b[0m\u001b[1;33m:\u001b[0m \u001b[1;34m'green'\u001b[0m\u001b[1;33m,\u001b[0m \u001b[1;34m'speed'\u001b[0m\u001b[1;33m:\u001b[0m \u001b[1;34m'slow'\u001b[0m\u001b[1;33m}\u001b[0m\u001b[1;33m\u001b[0m\u001b[1;33m\u001b[0m\u001b[0m\n\u001b[1;32m----> 2\u001b[1;33m \u001b[0mprint\u001b[0m\u001b[1;33m(\u001b[0m\u001b[0malien_0\u001b[0m\u001b[1;33m[\u001b[0m\u001b[1;34m'points'\u001b[0m\u001b[1;33m]\u001b[0m\u001b[1;33m)\u001b[0m\u001b[1;33m\u001b[0m\u001b[1;33m\u001b[0m\u001b[0m\n\u001b[0m",
      "\u001b[1;31mKeyError\u001b[0m: 'points'"
     ]
    }
   ],
   "source": [
    "alien_0 = {'color': 'green', 'speed': 'slow'}\n",
    "print(alien_0['points'])"
   ]
  },
  {
   "cell_type": "markdown",
   "metadata": {},
   "source": [
    "**You can use the get() method to set a default value that will be returned if the requested key doesn’t exist.**"
   ]
  },
  {
   "cell_type": "code",
   "execution_count": 21,
   "metadata": {},
   "outputs": [
    {
     "name": "stdout",
     "output_type": "stream",
     "text": [
      "No point value assigned.\n"
     ]
    }
   ],
   "source": [
    "alien_0 = {'color': 'green', 'speed': 'slow'}\n",
    "point_value = alien_0.get('points', 'No point value assigned.')\n",
    "print(point_value)"
   ]
  },
  {
   "cell_type": "markdown",
   "metadata": {},
   "source": [
    "- If there’s a chance the key you’re asking for might not exist, \n",
    "- consider using the `get()` method instead of the square bracket notation."
   ]
  },
  {
   "cell_type": "markdown",
   "metadata": {},
   "source": [
    "## Looping Through a Dictionary\n",
    "- A single Python dictionary can contain just a few key-value pairs or millions of pairs. \n",
    "- Because a dictionary can contain large amounts of data, Python lets you loop through a dictionary.\n",
    "- Dictionaries can be used to store information in a variety of ways; therefore, several different ways exist to loop through them. \n",
    "- You can loop through all of a dictionary’s key-value pairs, through its keys, or through its values"
   ]
  },
  {
   "cell_type": "markdown",
   "metadata": {},
   "source": [
    "## Looping Through All Key-Value Pairs"
   ]
  },
  {
   "cell_type": "code",
   "execution_count": 23,
   "metadata": {},
   "outputs": [
    {
     "data": {
      "text/plain": [
       "{'username': 'efermi', 'first': 'enrico', 'last': 'fermi'}"
      ]
     },
     "execution_count": 23,
     "metadata": {},
     "output_type": "execute_result"
    }
   ],
   "source": [
    "user_0 = {\n",
    "'username': 'efermi',\n",
    "'first': 'enrico',\n",
    "'last': 'fermi',\n",
    "}\n",
    "\n",
    "user_0"
   ]
  },
  {
   "cell_type": "markdown",
   "metadata": {},
   "source": [
    "## for k, v in user_0.items()"
   ]
  },
  {
   "cell_type": "code",
   "execution_count": 24,
   "metadata": {},
   "outputs": [
    {
     "name": "stdout",
     "output_type": "stream",
     "text": [
      "\n",
      "Key: username\n",
      "Value: efermi\n",
      "\n",
      "Key: first\n",
      "Value: enrico\n",
      "\n",
      "Key: last\n",
      "Value: fermi\n"
     ]
    }
   ],
   "source": [
    "for key, value in user_0.items():\n",
    "    print(f\"\\nKey: {key}\")\n",
    "    print(f\"Value: {value}\")"
   ]
  },
  {
   "cell_type": "code",
   "execution_count": 25,
   "metadata": {},
   "outputs": [
    {
     "name": "stdout",
     "output_type": "stream",
     "text": [
      "Jen's favorite language is Python.\n",
      "Sarah's favorite language is C.\n",
      "Edward's favorite language is Rust.\n",
      "Phil's favorite language is Python.\n"
     ]
    }
   ],
   "source": [
    "favorite_languages = {\n",
    "'jen': 'python',\n",
    "'sarah': 'c',\n",
    "'edward': 'rust',\n",
    "'phil': 'python',\n",
    "}\n",
    "for name, language in favorite_languages.items():\n",
    "    print(f\"{name.title()}'s favorite language is {language.title()}.\")"
   ]
  },
  {
   "cell_type": "markdown",
   "metadata": {},
   "source": [
    "## Looping Through All the Keys in a Dictionary"
   ]
  },
  {
   "cell_type": "code",
   "execution_count": 26,
   "metadata": {},
   "outputs": [
    {
     "name": "stdout",
     "output_type": "stream",
     "text": [
      "Jen\n",
      "Sarah\n",
      "Edward\n",
      "Phil\n"
     ]
    }
   ],
   "source": [
    "favorite_languages = {\n",
    "'jen': 'python',\n",
    "'sarah': 'c',\n",
    "'edward': 'rust',\n",
    "'phil': 'python',\n",
    "}\n",
    "for name in favorite_languages.keys():\n",
    "    print(name.title())"
   ]
  },
  {
   "cell_type": "markdown",
   "metadata": {},
   "source": [
    "**Looping through the keys is actually the default behavior when looping through a dictionary, so this code would have exactly the same output if you wrote:**\n",
    "\n",
    "----------------------------------------------------------------\n",
    "```python\n",
    "for name in favorite_languages:\n",
    "```\n",
    "----------------------------------------------------------------\n",
    "rather than:\n",
    "\n",
    "----------------------------------------------------------------\n",
    "```python\n",
    "for name in favorite_languages.keys():\n",
    "```\n",
    "----------------------------------------------------------------\n",
    "\n",
    "- You can choose to use the `keys()` method explicitly if it makes your code easier to read, or you can omit it if you wish."
   ]
  },
  {
   "cell_type": "code",
   "execution_count": 27,
   "metadata": {},
   "outputs": [
    {
     "name": "stdout",
     "output_type": "stream",
     "text": [
      "Hi Jen.\n",
      "Hi Sarah.\n",
      "\tSarah, I see you love C!\n",
      "Hi Edward.\n",
      "Hi Phil.\n",
      "\tPhil, I see you love Python!\n"
     ]
    }
   ],
   "source": [
    "favorite_languages = {\n",
    "'jen': 'python',\n",
    "'sarah': 'c',\n",
    "'edward': 'rust',\n",
    "'phil': 'python',\n",
    "}\n",
    "\n",
    "friends = ['phil', 'sarah']\n",
    "for name in favorite_languages.keys():\n",
    "    print(f\"Hi {name.title()}.\")\n",
    "    if name in friends:\n",
    "        language = favorite_languages[name].title()\n",
    "        print(f\"\\t{name.title()}, I see you love {language}!\")"
   ]
  },
  {
   "cell_type": "markdown",
   "metadata": {},
   "source": [
    "NOTE! Everyone’s name is printed, but our friends receive a special message:"
   ]
  },
  {
   "cell_type": "markdown",
   "metadata": {},
   "source": [
    "You can also use the keys() method to find out if a particular person was polled. This time, let’s find out if Erin took the poll:"
   ]
  },
  {
   "cell_type": "code",
   "execution_count": 28,
   "metadata": {},
   "outputs": [
    {
     "name": "stdout",
     "output_type": "stream",
     "text": [
      "Erin, please take our poll!\n"
     ]
    }
   ],
   "source": [
    "favorite_languages = {\n",
    "'jen': 'python',\n",
    "'sarah': 'c',\n",
    "'edward': 'rust',\n",
    "'phil': 'python',\n",
    "}\n",
    "\n",
    "if 'erin' not in favorite_languages.keys():\n",
    "    print(\"Erin, please take our poll!\")"
   ]
  },
  {
   "cell_type": "markdown",
   "metadata": {},
   "source": [
    "## Looping Through a Dictionary’s Keys in a Particular Order\n",
    "\n",
    "- Looping through a dictionary returns the items in the same order they were inserted. \n",
    "- Sometimes, though, you’ll want to loop through a dictionary in a different order.\n",
    "- One way to do this is to sort the keys as they’re returned in the `for` loop.\n",
    "- You can use the `sorted()` function to get a copy of the keys in order:"
   ]
  },
  {
   "cell_type": "code",
   "execution_count": 29,
   "metadata": {},
   "outputs": [
    {
     "name": "stdout",
     "output_type": "stream",
     "text": [
      "Edward, thank you for taking the poll.\n",
      "Jen, thank you for taking the poll.\n",
      "Phil, thank you for taking the poll.\n",
      "Sarah, thank you for taking the poll.\n"
     ]
    }
   ],
   "source": [
    "favorite_languages = {\n",
    "'jen': 'python',\n",
    "'sarah': 'c',\n",
    "'edward': 'rust',\n",
    "'phil': 'python',\n",
    "}\n",
    "for name in sorted(favorite_languages.keys()):\n",
    "    print(f\"{name.title()}, thank you for taking the poll.\")"
   ]
  },
  {
   "cell_type": "markdown",
   "metadata": {},
   "source": [
    "## Looping Through All Values in a Dictionary\n",
    "\n",
    "- If you are primarily interested in the values that a dictionary contains, you can use the values() method to return a sequence of values without any keys. \n",
    "- For example, say we simply want a list of all languages chosen in our programming language poll, without the name of the person who chose\n",
    "each language:"
   ]
  },
  {
   "cell_type": "code",
   "execution_count": 30,
   "metadata": {},
   "outputs": [
    {
     "name": "stdout",
     "output_type": "stream",
     "text": [
      "The following languages have been mentioned:\n",
      "Python\n",
      "C\n",
      "Rust\n",
      "Python\n"
     ]
    }
   ],
   "source": [
    "favorite_languages = {\n",
    "'jen': 'python',\n",
    "'sarah': 'c',\n",
    "'edward': 'rust',\n",
    "'phil': 'python',\n",
    "}\n",
    "print(\"The following languages have been mentioned:\")\n",
    "for language in favorite_languages.values():\n",
    "    print(language.title())"
   ]
  },
  {
   "cell_type": "markdown",
   "metadata": {},
   "source": [
    "- This approach pulls all the values from the dictionary without checking for repeats. \n",
    "- This might work fine with a small number of values, but in a poll with a large number of respondents, it would result in a very repetitive list. \n",
    "- To see each language chosen without repetition, we can use a set. \n",
    "- A set is a collection in which each item must be unique:"
   ]
  },
  {
   "cell_type": "code",
   "execution_count": 32,
   "metadata": {},
   "outputs": [
    {
     "name": "stdout",
     "output_type": "stream",
     "text": [
      "The following languages have been mentioned:\n",
      "Rust\n",
      "C\n",
      "Python\n"
     ]
    }
   ],
   "source": [
    "favorite_languages = {\n",
    "'jen': 'python',\n",
    "'sarah': 'c',\n",
    "'edward': 'rust',\n",
    "'phil': 'python',\n",
    "}\n",
    "\n",
    "print(\"The following languages have been mentioned:\")\n",
    "for language in set(favorite_languages.values()):\n",
    "    print(language.title())"
   ]
  },
  {
   "cell_type": "markdown",
   "metadata": {},
   "source": [
    "You can build a set directly using braces and separating the elements with commas:\n",
    "\n",
    "```python\n",
    "languages = {'python', 'rust', 'python', 'c'}"
   ]
  },
  {
   "cell_type": "code",
   "execution_count": 33,
   "metadata": {},
   "outputs": [
    {
     "data": {
      "text/plain": [
       "{'c', 'python', 'rust'}"
      ]
     },
     "execution_count": 33,
     "metadata": {},
     "output_type": "execute_result"
    }
   ],
   "source": [
    "languages = {'python', 'rust', 'python', 'c'}\n",
    "languages"
   ]
  },
  {
   "cell_type": "markdown",
   "metadata": {},
   "source": [
    "## Nesting\n",
    "- Sometimes you’ll want to store multiple dictionaries in a list, or a list of items as a value in a dictionary. \n",
    "- This is called nesting. You can nest dictionaries inside a list, a list of items inside a dictionary, or even a dictionary inside another dictionary. \n",
    "- Nesting is a powerful feature, as the following examples will demonstrate."
   ]
  },
  {
   "cell_type": "markdown",
   "metadata": {},
   "source": [
    "## A List of Dictionaries"
   ]
  },
  {
   "cell_type": "code",
   "execution_count": 34,
   "metadata": {},
   "outputs": [],
   "source": [
    "alien_0 = {'color': 'green', 'points': 5}\n",
    "alien_1 = {'color': 'yellow', 'points': 10}\n",
    "alien_2 = {'color': 'red', 'points': 15}\n",
    "\n",
    "aliens = [alien_0, alien_1, alien_2]"
   ]
  },
  {
   "cell_type": "code",
   "execution_count": 35,
   "metadata": {},
   "outputs": [
    {
     "name": "stdout",
     "output_type": "stream",
     "text": [
      "{'color': 'green', 'points': 5}\n",
      "{'color': 'yellow', 'points': 10}\n",
      "{'color': 'red', 'points': 15}\n"
     ]
    }
   ],
   "source": [
    "for alien in aliens:\n",
    "    print(alien)"
   ]
  },
  {
   "cell_type": "code",
   "execution_count": 36,
   "metadata": {},
   "outputs": [
    {
     "name": "stdout",
     "output_type": "stream",
     "text": [
      "{'color': 'green', 'points': 5, 'speed': 'slow'}\n",
      "...\n",
      "{'color': 'green', 'points': 5, 'speed': 'slow'}\n",
      "...\n",
      "{'color': 'green', 'points': 5, 'speed': 'slow'}\n",
      "...\n",
      "{'color': 'green', 'points': 5, 'speed': 'slow'}\n",
      "...\n",
      "{'color': 'green', 'points': 5, 'speed': 'slow'}\n",
      "...\n",
      "Total number of aliens: 30\n"
     ]
    }
   ],
   "source": [
    "# Make an empty list for storing aliens.\n",
    "aliens = []\n",
    "# Make 30 green aliens.\n",
    "for alien_number in range(30):\n",
    "   new_alien = {'color': 'green', 'points': 5, 'speed': 'slow'}\n",
    "   aliens.append(new_alien)\n",
    "# Show the first 5 aliens.\n",
    "for alien in aliens[:5]:\n",
    "    print(alien)\n",
    "    print(\"...\")\n",
    "# Show how many aliens have been created.\n",
    "print(f\"Total number of aliens: {len(aliens)}\")"
   ]
  },
  {
   "cell_type": "markdown",
   "metadata": {},
   "source": [
    "These aliens all have the same characteristics, but Python considers each\n",
    "one a separate object, which allows us to modify each alien individually.\n",
    "How might you work with a group of aliens like this? Imagine that one\n",
    "aspect of a game has some aliens changing color and moving faster as the\n",
    "game progresses. When it’s time to change colors, we can use a for loop and\n",
    "an if statement to change the color of the aliens. For example, to change the first three aliens to yellow, medium-speed aliens worth 10 points each, we could do this:"
   ]
  },
  {
   "cell_type": "code",
   "execution_count": 37,
   "metadata": {},
   "outputs": [
    {
     "name": "stdout",
     "output_type": "stream",
     "text": [
      "{'color': 'yellow', 'points': 10, 'speed': 'medium'}\n",
      "{'color': 'yellow', 'points': 10, 'speed': 'medium'}\n",
      "{'color': 'yellow', 'points': 10, 'speed': 'medium'}\n",
      "{'color': 'green', 'points': 5, 'speed': 'slow'}\n",
      "{'color': 'green', 'points': 5, 'speed': 'slow'}\n",
      "...\n"
     ]
    }
   ],
   "source": [
    "# Make an empty list for storing aliens.\n",
    "aliens = []\n",
    "# Make 30 green aliens.\n",
    "for alien_number in range (30):\n",
    "    new_alien = {'color': 'green', 'points': 5, 'speed': 'slow'}\n",
    "    aliens.append(new_alien)\n",
    "for alien in aliens[:3]:\n",
    "    if alien['color'] == 'green':\n",
    "        alien['color'] = 'yellow'\n",
    "        alien['speed'] = 'medium'\n",
    "        alien['points'] = 10\n",
    "# Show the first 5 aliens.\n",
    "for alien in aliens[:5]:\n",
    "    print(alien)\n",
    "print(\"...\")"
   ]
  },
  {
   "cell_type": "markdown",
   "metadata": {},
   "source": [
    "Because we want to modify the first three aliens, we loop through a\n",
    "slice that includes only the first three aliens. All of the aliens are green now,\n",
    "but that won’t always be the case, so we write an if statement to make sure\n",
    "we’re only modifying green aliens. If the alien is green, we change the color\n",
    "to 'yellow', the speed to 'medium', and the point value to 10, as shown in the\n",
    "above output:"
   ]
  },
  {
   "cell_type": "markdown",
   "metadata": {},
   "source": [
    "You could expand this loop by adding an elif block that turns yellow\n",
    "aliens into red, fast-moving ones worth 15 points each. Without showing the\n",
    "entire program again, that loop would look like this:"
   ]
  },
  {
   "cell_type": "code",
   "execution_count": 38,
   "metadata": {},
   "outputs": [],
   "source": [
    "for alien in aliens[0:3]:\n",
    "    if alien['color'] == 'green':\n",
    "        alien['color'] = 'yellow'\n",
    "        alien['speed'] = 'medium'\n",
    "        alien['points'] = 10\n",
    "    elif alien['color'] == 'yellow':\n",
    "        alien['color'] = 'red'\n",
    "        alien['speed'] = 'fast'\n",
    "        alien['points'] = 15"
   ]
  },
  {
   "cell_type": "markdown",
   "metadata": {},
   "source": [
    "## A List in a Dictionary"
   ]
  },
  {
   "cell_type": "markdown",
   "metadata": {},
   "source": [
    "Remenber the defintion2 ???\n",
    "\n",
    "```python\n",
    "defintion2= {\"beginner\": [\"Someone new to a field or activity\",\"A person who founds or establishes some institution\"]}\n",
    "```"
   ]
  },
  {
   "cell_type": "code",
   "execution_count": 39,
   "metadata": {},
   "outputs": [
    {
     "name": "stdout",
     "output_type": "stream",
     "text": [
      "Someone new to a field or activity\n",
      "A person who founds or establishes some institution\n"
     ]
    }
   ],
   "source": [
    "for definition in defintion2[\"beginner\"]:\n",
    "    print(definition)"
   ]
  },
  {
   "cell_type": "code",
   "execution_count": 42,
   "metadata": {},
   "outputs": [
    {
     "name": "stdout",
     "output_type": "stream",
     "text": [
      "You ordered a thick-crust pizza with the following toppings:\n",
      "\tmushrooms\n",
      "\textra cheese\n"
     ]
    }
   ],
   "source": [
    "# Store information about a pizza being ordered.\n",
    "pizza = {\n",
    "'crust': 'thick',\n",
    "'toppings': ['mushrooms', 'extra cheese'],\n",
    "}\n",
    "# Summarize the order.\n",
    "print(f\"You ordered a {pizza['crust']}-crust pizza \"\n",
    "\"with the following toppings:\")\n",
    "for topping in pizza['toppings']:\n",
    "    print(f\"\\t{topping}\")"
   ]
  },
  {
   "cell_type": "code",
   "execution_count": 43,
   "metadata": {},
   "outputs": [
    {
     "name": "stdout",
     "output_type": "stream",
     "text": [
      "\n",
      "Jen's favorite languages are:\n",
      "\tPython\n",
      "\tRust\n",
      "\n",
      "Sarah's favorite languages are:\n",
      "\tC\n",
      "\n",
      "Edward's favorite languages are:\n",
      "\tRust\n",
      "\tGo\n",
      "\n",
      "Phil's favorite languages are:\n",
      "\tPython\n",
      "\tHaskell\n"
     ]
    }
   ],
   "source": [
    "favorite_languages = {\n",
    "'jen': ['python', 'rust'],\n",
    "'sarah': ['c'],\n",
    "'edward': ['rust', 'go'],\n",
    "'phil': ['python', 'haskell'],\n",
    "}\n",
    "for name, languages in favorite_languages.items():\n",
    "    print(f\"\\n{name.title()}'s favorite languages are:\")\n",
    "    for language in languages:\n",
    "        print(f\"\\t{language.title()}\")"
   ]
  },
  {
   "cell_type": "markdown",
   "metadata": {},
   "source": [
    "## A Dictionary in a Dictionary"
   ]
  },
  {
   "cell_type": "code",
   "execution_count": 44,
   "metadata": {},
   "outputs": [
    {
     "name": "stdout",
     "output_type": "stream",
     "text": [
      "\n",
      "Username: aeinstein\n",
      "\tFull name: Albert Einstein\n",
      "\tLocation: Princeton\n",
      "\n",
      "Username: mcurie\n",
      "\tFull name: Marie Curie\n",
      "\tLocation: Paris\n"
     ]
    }
   ],
   "source": [
    "users = {\n",
    "'aeinstein': {\n",
    "'first': 'albert',\n",
    "'last': 'einstein',\n",
    "'location': 'princeton',\n",
    "},\n",
    "'mcurie': {\n",
    "'first': 'marie',\n",
    "'last': 'curie',\n",
    "'location': 'paris',\n",
    "},\n",
    "}\n",
    "for username, user_info in users.items():\n",
    "    print(f\"\\nUsername: {username}\")\n",
    "    full_name = f\"{user_info['first']} {user_info['last']}\"\n",
    "    location = user_info['location']\n",
    "    \n",
    "    print(f\"\\tFull name: {full_name.title()}\")\n",
    "    print(f\"\\tLocation: {location.title()}\")"
   ]
  },
  {
   "cell_type": "markdown",
   "metadata": {},
   "source": [
    "## Summary\n",
    "- Learned how to define a **dictionary** and work with its stored information.  \n",
    "- Gained skills to:  \n",
    "  - **Access and modify** individual elements in a dictionary.  \n",
    "  - **Loop through** key-value pairs, keys, and values in a dictionary.  \n",
    "- Explored how to **nest data structures**, including:  \n",
    "  - Multiple dictionaries inside a list.  \n",
    "  - Lists inside a dictionary.  \n",
    "  - Dictionaries inside other dictionaries.  \n",
    "- Preview of the next chapter: Introduction to **while loops** and handling **user input** to make programs interactive.  "
   ]
  }
 ],
 "metadata": {
  "kernelspec": {
   "display_name": "deeplearning",
   "language": "python",
   "name": "python3"
  },
  "language_info": {
   "codemirror_mode": {
    "name": "ipython",
    "version": 3
   },
   "file_extension": ".py",
   "mimetype": "text/x-python",
   "name": "python",
   "nbconvert_exporter": "python",
   "pygments_lexer": "ipython3",
   "version": "3.7.1"
  }
 },
 "nbformat": 4,
 "nbformat_minor": 2
}
